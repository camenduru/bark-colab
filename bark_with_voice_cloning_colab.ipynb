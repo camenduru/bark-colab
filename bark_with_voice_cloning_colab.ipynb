{
  "cells": [
    {
      "cell_type": "markdown",
      "metadata": {
        "id": "view-in-github"
      },
      "source": [
        "[![Open In Colab](https://colab.research.google.com/assets/colab-badge.svg)](https://colab.research.google.com/github/camenduru/bark-colab/blob/main/bark_with_voice_cloning_colab.ipynb)"
      ]
    },
    {
      "cell_type": "code",
      "execution_count": null,
      "metadata": {
        "id": "ngr4pZeHCM1C"
      },
      "outputs": [],
      "source": [
        "%cd /content\n",
        "!pip install -q audiolm-pytorch gradio funcy linkify mutagen pytorch_seed sentencepiece transformers deepfilternet\n",
        "!git clone -b dev https://github.com/camenduru/Bark-with-Voice-Cloning-hf\n",
        "\n",
        "!apt -y install -qq aria2\n",
        "!aria2c --console-log-level=error -c -x 16 -s 16 -k 1M https://huggingface.co/camenduru/DeepFilterNet2/resolve/main/model_96.ckpt.best -d /content/Bark-with-Voice-Cloning-hf/DeepFilterNet2/checkpoints -o model_96.ckpt.best\n",
        "!aria2c --console-log-level=error -c -x 16 -s 16 -k 1M https://huggingface.co/suno/bark/resolve/main/text_2.pt -d /content/Bark-with-Voice-Cloning-hf/models -o text_2.pt\n",
        "!aria2c --console-log-level=error -c -x 16 -s 16 -k 1M https://huggingface.co/suno/bark/resolve/main/coarse_2.pt -d /content/Bark-with-Voice-Cloning-hf/models -o coarse_2.pt\n",
        "!aria2c --console-log-level=error -c -x 16 -s 16 -k 1M https://huggingface.co/suno/bark/resolve/main/fine_2.pt -d /content/Bark-with-Voice-Cloning-hf/models -o fine_2.pt\n",
        "!aria2c --console-log-level=error -c -x 16 -s 16 -k 1M https://dl.fbaipublicfiles.com/encodec/v0/encodec_24khz-d7cc33bc.th -d /root/.cache/torch/hub/checkpoints -o encodec_24khz-d7cc33bc.th\n",
        "\n",
        "%cd /content/Bark-with-Voice-Cloning-hf\n",
        "!python app.py"
      ]
    }
  ],
  "metadata": {
    "accelerator": "GPU",
    "colab": {
      "provenance": []
    },
    "gpuClass": "standard",
    "kernelspec": {
      "display_name": "Python 3",
      "name": "python3"
    },
    "language_info": {
      "name": "python"
    }
  },
  "nbformat": 4,
  "nbformat_minor": 0
}
